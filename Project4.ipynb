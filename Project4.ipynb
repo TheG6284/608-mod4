{
 "cells": [
  {
   "cell_type": "markdown",
   "id": "4b4bfc70-7a2b-4c94-8d2e-21cfba5dce86",
   "metadata": {},
   "source": [
    "Project 4  -Gavin Albrecht"
   ]
  },
  {
   "cell_type": "code",
   "execution_count": 17,
   "id": "4f5810d5-e702-4372-91e6-cd6dd07e8393",
   "metadata": {},
   "outputs": [
    {
     "name": "stdout",
     "output_type": "stream",
     "text": [
      "-45\n",
      "1543\n",
      "5\n",
      "365\n",
      "-39\n",
      "[-45, 6, 0, 72, 1543, 365, 66, 77, 88]\n",
      "[-91125, 216, 0, 373248, 3673650007, 48627125]\n"
     ]
    }
   ],
   "source": [
    "c= [-45, 6, 0, 72, 1543]\n",
    "d = [66,77,88]\n",
    "\n",
    "print(c[0])\n",
    "print(c[4])\n",
    "print(len(c))\n",
    "\n",
    "c += [365]\n",
    "print(c[5])\n",
    "print(c[0]+c[1]+c[2])\n",
    "print(c + d)\n",
    "\n",
    "def cube(c):\n",
    "    for i in range(len(c)):\n",
    "        c[i] = c[i]**3\n",
    "        \n",
    "    return c\n",
    "    \n",
    "print(cube(c))"
   ]
  },
  {
   "cell_type": "markdown",
   "id": "3607c317-6b12-4a49-ad14-6b31349c2de4",
   "metadata": {},
   "source": [
    "Tuple Practice - Gavin A"
   ]
  },
  {
   "cell_type": "code",
   "execution_count": 28,
   "id": "e9aa6acf-daf5-4dfa-9694-06159690ce58",
   "metadata": {},
   "outputs": [
    {
     "name": "stdout",
     "output_type": "stream",
     "text": [
      "1 2 3\n",
      "4 5\n",
      "('Gabby', 'Blue', [98, 89, 79, 980])\n",
      "Gabby\n",
      "[98, 89, 79, 980]\n",
      "\n",
      "Creating a bar chart from numbers:\n",
      "Index   Value Bar\n",
      "    0      19 *******************\n",
      "    1       3 ***\n",
      "    2      15 ***************\n",
      "    3       7 *******\n",
      "    4      11 ***********\n"
     ]
    }
   ],
   "source": [
    "a = (1,2,3)\n",
    "print(a[0], a[1], a[2])\n",
    "\n",
    "a += (4, 5)\n",
    "\n",
    "print(a[3], a[4])\n",
    "\n",
    "student = (\"Gabby\", \"Blue\", [98, 89, 79, 980])\n",
    "\n",
    "print(student)\n",
    "\n",
    "firstname, lastname, grades = student\n",
    "\n",
    "print(firstname)\n",
    "print(grades)\n",
    "\n",
    "numbers = [19, 3, 15, 7, 11]\n",
    "\n",
    "print('\\nCreating a bar chart from numbers:')\n",
    "print(f'Index{\"Value\":>8} Bar')\n",
    "\n",
    "for index, value in enumerate(numbers):\n",
    "    print(f'{index:>5}{value:>8} {\"*\" * value}')"
   ]
  },
  {
   "cell_type": "markdown",
   "id": "c2eb38c2-e1c8-4b2a-ae8e-319189c86d36",
   "metadata": {},
   "source": [
    "Slice Practice - Gavin A"
   ]
  },
  {
   "cell_type": "code",
   "execution_count": 5,
   "id": "82463066-24d1-40d0-83ce-f8f429edc97f",
   "metadata": {},
   "outputs": [
    {
     "name": "stdout",
     "output_type": "stream",
     "text": [
      "[2, 4, 6, 8]\n",
      "[1, 2, 3, 0, 7, 8, 9]\n",
      "[]\n",
      "[2, 4, 6, 8]\n",
      "[9, 8, 7, 6, 5, 4, 3, 2, 1]\n",
      "6\n",
      "[90, 80, 70, 60, 50, 40, 30, 20, 10]\n",
      "[['Hot', 'Warm', 'Cool'], ['Warm', 'Cool', 'Cold'], ['Cool', 'Cold', 'Freezing']]\n",
      "Hot Freezing\n"
     ]
    }
   ],
   "source": [
    "numbers = [1,2,3,4,5,6,7,8,9]\n",
    "print(numbers[1::2])\n",
    "numbers[3:6] = [0]\n",
    "print(numbers)\n",
    "numbers[:] =[]\n",
    "print(numbers)\n",
    "\n",
    "numbers = [1,2,3,4,5,6,7,8,9]\n",
    "#5.6\n",
    "del numbers[::2]\n",
    "print(numbers)\n",
    "\n",
    "numbers = [1,2,3,4,5,6,7,8,9]\n",
    "\n",
    "#5.8\n",
    "numbers.sort(reverse = True)\n",
    "print(numbers)\n",
    "\n",
    "#5.9\n",
    "print(numbers.index(3))\n",
    "\n",
    "\n",
    "#5.12\n",
    "list2 = [item*10 for item in numbers]\n",
    "print(list2)\n",
    "\n",
    "arraylist = [['Hot', 'Warm', 'Cool'], ['Warm', 'Cool', 'Cold'],['Cool', 'Cold', 'Freezing']]\n",
    "\n",
    "print(arraylist)\n",
    "print(arraylist[0][0], arraylist[2][2])"
   ]
  },
  {
   "cell_type": "markdown",
   "id": "96e0adc6-5f70-493c-be11-c547cbb8fc38",
   "metadata": {},
   "source": [
    "Dictionaries -Gavin A"
   ]
  },
  {
   "cell_type": "code",
   "execution_count": 8,
   "id": "3dde72e3-173d-4a04-9143-97cd67f988d0",
   "metadata": {},
   "outputs": [
    {
     "name": "stdout",
     "output_type": "stream",
     "text": [
      "WORD        COUNT\n",
      "This        1\n",
      "all         2\n",
      "all,        1\n",
      "and         1\n",
      "are         1\n",
      "count       1\n",
      "counts      1\n",
      "here        2\n",
      "is          1\n",
      "it          1\n",
      "right       1\n",
      "takes       1\n",
      "tells       1\n",
      "text        1\n",
      "the         1\n",
      "them        2\n",
      "them,       1\n",
      "there       2\n",
      "to          1\n",
      "totals      1\n",
      "what        1\n",
      "words       1\n",
      "words,      2\n",
      "you         1\n",
      "\n",
      "Number of unique words: 24\n"
     ]
    }
   ],
   "source": [
    "\n",
    "text = ('This here text right here is to count all them there words, it takes them all, totals the words, counts them, and tells you what all words there are')\n",
    "\n",
    "word_counts = {}\n",
    "\n",
    "\n",
    "for word in text.split():\n",
    "    if word in word_counts: \n",
    "        word_counts[word] += 1 # update existing key-value pair\n",
    "    else:\n",
    "        word_counts[word] = 1 # insert new key-value pair\n",
    "\n",
    "print(f'{\"WORD\":<12}COUNT')\n",
    "\n",
    "for word, count in sorted(word_counts.items()):\n",
    "        print(f'{word:<12}{count}')\n",
    "\n",
    "print('\\nNumber of unique words:', len(word_counts))"
   ]
  },
  {
   "cell_type": "markdown",
   "id": "a2aa15cb-7e95-45fd-9211-374b0a01fd76",
   "metadata": {},
   "source": [
    "Sets -Gavin A"
   ]
  },
  {
   "cell_type": "code",
   "execution_count": 16,
   "id": "b01c0ae6-b39f-43ac-851e-6050bcb859f3",
   "metadata": {},
   "outputs": [
    {
     "name": "stdout",
     "output_type": "stream",
     "text": [
      "5\n",
      "True\n",
      "False\n",
      "True\n"
     ]
    }
   ],
   "source": [
    "colors = {'red', 'orange', 'yellow', 'green', 'red', 'blue'}\n",
    "\n",
    "print(len(colors))\n",
    "\n",
    "print('red' in colors)\n",
    "\n",
    "numbers1 ={1,3,5}\n",
    "numbers2 ={2,4,6}\n",
    "\n",
    "print(numbers1 == numbers2)\n",
    "\n",
    "print({3,1,5}.issubset(numbers1))"
   ]
  },
  {
   "cell_type": "code",
   "execution_count": null,
   "id": "d3344332-71a7-4d6c-ab19-edce5dd6a170",
   "metadata": {},
   "outputs": [],
   "source": []
  },
  {
   "cell_type": "code",
   "execution_count": null,
   "id": "a5bed6c6-ad8c-4592-8d2f-a2df404931ce",
   "metadata": {},
   "outputs": [],
   "source": []
  },
  {
   "cell_type": "code",
   "execution_count": null,
   "id": "dad55112-de41-4b52-b844-9c187d1f92d1",
   "metadata": {},
   "outputs": [],
   "source": []
  }
 ],
 "metadata": {
  "kernelspec": {
   "display_name": "Python 3 (ipykernel)",
   "language": "python",
   "name": "python3"
  },
  "language_info": {
   "codemirror_mode": {
    "name": "ipython",
    "version": 3
   },
   "file_extension": ".py",
   "mimetype": "text/x-python",
   "name": "python",
   "nbconvert_exporter": "python",
   "pygments_lexer": "ipython3",
   "version": "3.9.12"
  }
 },
 "nbformat": 4,
 "nbformat_minor": 5
}
