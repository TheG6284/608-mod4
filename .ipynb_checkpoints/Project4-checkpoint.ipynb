{
 "cells": [
  {
   "cell_type": "markdown",
   "id": "4b4bfc70-7a2b-4c94-8d2e-21cfba5dce86",
   "metadata": {},
   "source": [
    "Project 4  -Gavin Albrecht"
   ]
  },
  {
   "cell_type": "code",
   "execution_count": null,
   "id": "4f5810d5-e702-4372-91e6-cd6dd07e8393",
   "metadata": {},
   "outputs": [],
   "source": []
  }
 ],
 "metadata": {
  "kernelspec": {
   "display_name": "Python 3 (ipykernel)",
   "language": "python",
   "name": "python3"
  },
  "language_info": {
   "codemirror_mode": {
    "name": "ipython",
    "version": 3
   },
   "file_extension": ".py",
   "mimetype": "text/x-python",
   "name": "python",
   "nbconvert_exporter": "python",
   "pygments_lexer": "ipython3",
   "version": "3.9.12"
  }
 },
 "nbformat": 4,
 "nbformat_minor": 5
}
